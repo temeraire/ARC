{
 "cells": [
  {
   "cell_type": "markdown",
   "metadata": {},
   "source": [
    "# Single Inputs and Outputs - Pad, Color"
   ]
  },
  {
   "cell_type": "markdown",
   "metadata": {},
   "source": []
  },
  {
   "cell_type": "code",
   "execution_count": 1,
   "metadata": {
    "_cell_guid": "b1076dfc-b9ad-4769-8c92-a6c4dae69d19",
    "_uuid": "8f2839f25d086af736a60e9eeb907d3b93b6e0e5"
   },
   "outputs": [],
   "source": [
    "import numpy as np\n",
    "import pandas as pd\n",
    "import torch\n",
    "import os\n",
    "import json\n",
    "from pathlib import Path\n",
    "import re\n",
    "import itertools\n",
    "from itertools import product\n",
    "from torchtext import data\n",
    "import torch.nn.functional as F\n",
    "from os import listdir\n",
    "from os.path import isfile, join\n",
    "import matplotlib.pyplot as plt\n",
    "from matplotlib import colors\n",
    "\n",
    "# thank you to \"visualizing all task pairs with gridlines\" and \"starter notebook\"!\n"
   ]
  },
  {
   "cell_type": "code",
   "execution_count": 2,
   "metadata": {},
   "outputs": [],
   "source": [
    "# for dirname, _, filenames in os.walk('/storage/data'):\n",
    "#     print(dirname)"
   ]
  },
  {
   "cell_type": "code",
   "execution_count": 3,
   "metadata": {
    "_cell_guid": "79c7e3d0-c299-4dcb-8224-4455121ee9b0",
    "_uuid": "d629ff2d2480ee46fbb7e2d37f6b5fab8052498a"
   },
   "outputs": [],
   "source": [
    "# Define Paths\n",
    "# \n",
    "# data_path = Path('/kaggle/input/abstraction-and-reasoning-challenge/')\n",
    "# here it's in /storage/data\n",
    "\n",
    "data_path = Path('/storage/data/')\n",
    "training_path = data_path / 'training'\n",
    "evaluation_path = data_path / 'evaluation'\n",
    "test_path = data_path / 'test'\n",
    "augment_path = data_path / 'augment'\n",
    "fulltask_path = augment_path / 'fulltask'\n",
    "subtask_path = augment_path / 'subtask'\n",
    "\n",
    "substring = '.json'\n",
    "baseName = \"\"\n",
    "\n",
    "# test - make a directory 'foo'\n",
    "\n",
    "# define the list of tasks we're going to be iterating through\n",
    "training_tasks = sorted(os.listdir(training_path))\n",
    "\n",
    "\n",
    "# training_path is /storage/data/training\n",
    "# print(training_path) \n",
    "# print(type(training_path))\n"
   ]
  },
  {
   "cell_type": "code",
   "execution_count": 4,
   "metadata": {},
   "outputs": [],
   "source": [
    "def showSizeIncrease(originalInputOrOutputSize, paddedInputOrOutputSize):\n",
    "    # will return the '0r1c' part of  tra_0_25d8a9c8_D1_0r1c.png or .json\n",
    "\n",
    "    #  trainingSizeIncrease = showSizeIncrease(originalTrainingInputSize, paddedTrainingInputSize)\n",
    "    originalRows = originalInputOrOutputSize[0]\n",
    "    originalColumns = originalInputOrOutputSize[1]\n",
    "    paddedRows = paddedInputOrOutputSize[0]\n",
    "    paddedColumns = paddedInputOrOutputSize[1]\n",
    "    rowDifference = (paddedRows - originalRows)\n",
    "    # cast to int so we don't have decimal points\n",
    "    rowDifference = int(rowDifference)\n",
    "    columnDifference = int(paddedColumns - originalColumns)\n",
    "    columnDifference = int(columnDifference)\n",
    "    strRowDifference = str(rowDifference)\n",
    "    strColumnDifference = str(columnDifference)\n",
    "    sizeIncreaseText = \"-\" + strRowDifference + \"r\" + strColumnDifference + \"c\"\n",
    "    return sizeIncreaseText"
   ]
  },
  {
   "cell_type": "markdown",
   "metadata": {},
   "source": [
    "Plot the subtask, which is an input or output pair"
   ]
  },
  {
   "cell_type": "code",
   "execution_count": 5,
   "metadata": {},
   "outputs": [],
   "source": [
    "def plot_single(task, filename=\"harry\"):\n",
    "    cmap = colors.ListedColormap(\n",
    "        ['#000000', '#0074D9','#FF4136','#2ECC40','#FFDC00',\n",
    "         '#AAAAAA', '#F012BE', '#FF851B', '#7FDBFF', '#870C25'])\n",
    "    norm = colors.Normalize(vmin=0, vmax=9)\n",
    "    # 0 black, 1 blue, 2 red, 3 green, 4 yellow, 5 grey, 6 pink, 7 orange, 8 light blue, 9 brown\n",
    "    # variable assignment: assigns 1 to fig and 2 to ax\n",
    "    fig, ax = plt.subplots(1, 1)\n",
    "    ax.imshow(task, cmap=cmap, norm=norm)\n",
    "    width = np.shape(task)[1]\n",
    "    height = np.shape(task)[0]\n",
    "    ax.set_xticks(np.arange(-.5,width))\n",
    "    ax.set_yticks(np.arange(-.5,height))\n",
    "    ax.set_xticklabels([])\n",
    "    ax.set_yticklabels([])\n",
    "#         fig.axes.get_xaxis().set_visible(False)\n",
    "#         fig.axes.get_yaxis().set_visible(False)\n",
    "    ax.tick_params(length=0)\n",
    "    ax.grid(True)\n",
    "    plt.tight_layout()\n",
    "#     file_name_with_path = os.path.join(str(augment_path), filename)\n",
    "\n",
    "    # name the directory with the tasks's baseName TODO this duplicate code from write single file \n",
    "    # should be in create_subtasks function but I couldn't get it to work\n",
    "    \n",
    "    directory = baseName\n",
    "    # Parent Directory path\n",
    "    parent_dir = str(augment_path)\n",
    "    # Path\n",
    "    path = Path(os.path.join(parent_dir, directory))\n",
    "    taskDirectory = path.mkdir(parents=True, exist_ok=True)\n",
    "    file_name_with_path = os.path.join(str(path), filename)\n",
    "\n",
    "    plt.savefig(file_name_with_path + '.png')\n",
    "    #include this next line if  you want the image to show in this notebook\n",
    "#     plt.show()\n",
    "    plt.close()\n",
    "    "
   ]
  },
  {
   "cell_type": "markdown",
   "metadata": {},
   "source": [
    "***Set Padding***"
   ]
  },
  {
   "cell_type": "code",
   "execution_count": 6,
   "metadata": {},
   "outputs": [
    {
     "name": "stdout",
     "output_type": "stream",
     "text": [
      "[0, 1, 2, 3, 4, 5, 6, 7, 8, 9]\n"
     ]
    }
   ],
   "source": [
    "PAD = 4\n",
    "arr = list(range(0,PAD + 1))\n",
    "padded_train_pairs = []\n",
    "padded_test_pairs = []\n",
    "dict_all_padded = {}\n",
    "adder = 0\n",
    "# print(arr)\n",
    "color_arr = list(range(0,10))\n",
    "print(color_arr)"
   ]
  },
  {
   "cell_type": "code",
   "execution_count": 7,
   "metadata": {},
   "outputs": [
    {
     "name": "stdout",
     "output_type": "stream",
     "text": [
      "625\n",
      "[(0, 0, 0, 0), (0, 0, 0, 1), (0, 0, 0, 2), (0, 0, 0, 3), (0, 0, 0, 4), (0, 0, 1, 0), (0, 0, 1, 1), (0, 0, 1, 2), (0, 0, 1, 3), (0, 0, 1, 4), (0, 0, 2, 0), (0, 0, 2, 1), (0, 0, 2, 2), (0, 0, 2, 3), (0, 0, 2, 4), (0, 0, 3, 0), (0, 0, 3, 1), (0, 0, 3, 2), (0, 0, 3, 3), (0, 0, 3, 4), (0, 0, 4, 0), (0, 0, 4, 1), (0, 0, 4, 2), (0, 0, 4, 3), (0, 0, 4, 4), (0, 1, 0, 0), (0, 1, 0, 1), (0, 1, 0, 2), (0, 1, 0, 3), (0, 1, 0, 4), (0, 1, 1, 0), (0, 1, 1, 1), (0, 1, 1, 2), (0, 1, 1, 3), (0, 1, 1, 4), (0, 1, 2, 0), (0, 1, 2, 1), (0, 1, 2, 2), (0, 1, 2, 3), (0, 1, 2, 4), (0, 1, 3, 0), (0, 1, 3, 1), (0, 1, 3, 2), (0, 1, 3, 3), (0, 1, 3, 4), (0, 1, 4, 0), (0, 1, 4, 1), (0, 1, 4, 2), (0, 1, 4, 3), (0, 1, 4, 4), (0, 2, 0, 0), (0, 2, 0, 1), (0, 2, 0, 2), (0, 2, 0, 3), (0, 2, 0, 4), (0, 2, 1, 0), (0, 2, 1, 1), (0, 2, 1, 2), (0, 2, 1, 3), (0, 2, 1, 4), (0, 2, 2, 0), (0, 2, 2, 1), (0, 2, 2, 2), (0, 2, 2, 3), (0, 2, 2, 4), (0, 2, 3, 0), (0, 2, 3, 1), (0, 2, 3, 2), (0, 2, 3, 3), (0, 2, 3, 4), (0, 2, 4, 0), (0, 2, 4, 1), (0, 2, 4, 2), (0, 2, 4, 3), (0, 2, 4, 4), (0, 3, 0, 0), (0, 3, 0, 1), (0, 3, 0, 2), (0, 3, 0, 3), (0, 3, 0, 4), (0, 3, 1, 0), (0, 3, 1, 1), (0, 3, 1, 2), (0, 3, 1, 3), (0, 3, 1, 4), (0, 3, 2, 0), (0, 3, 2, 1), (0, 3, 2, 2), (0, 3, 2, 3), (0, 3, 2, 4), (0, 3, 3, 0), (0, 3, 3, 1), (0, 3, 3, 2), (0, 3, 3, 3), (0, 3, 3, 4), (0, 3, 4, 0), (0, 3, 4, 1), (0, 3, 4, 2), (0, 3, 4, 3), (0, 3, 4, 4), (0, 4, 0, 0), (0, 4, 0, 1), (0, 4, 0, 2), (0, 4, 0, 3), (0, 4, 0, 4), (0, 4, 1, 0), (0, 4, 1, 1), (0, 4, 1, 2), (0, 4, 1, 3), (0, 4, 1, 4), (0, 4, 2, 0), (0, 4, 2, 1), (0, 4, 2, 2), (0, 4, 2, 3), (0, 4, 2, 4), (0, 4, 3, 0), (0, 4, 3, 1), (0, 4, 3, 2), (0, 4, 3, 3), (0, 4, 3, 4), (0, 4, 4, 0), (0, 4, 4, 1), (0, 4, 4, 2), (0, 4, 4, 3), (0, 4, 4, 4), (1, 0, 0, 0), (1, 0, 0, 1), (1, 0, 0, 2), (1, 0, 0, 3), (1, 0, 0, 4), (1, 0, 1, 0), (1, 0, 1, 1), (1, 0, 1, 2), (1, 0, 1, 3), (1, 0, 1, 4), (1, 0, 2, 0), (1, 0, 2, 1), (1, 0, 2, 2), (1, 0, 2, 3), (1, 0, 2, 4), (1, 0, 3, 0), (1, 0, 3, 1), (1, 0, 3, 2), (1, 0, 3, 3), (1, 0, 3, 4), (1, 0, 4, 0), (1, 0, 4, 1), (1, 0, 4, 2), (1, 0, 4, 3), (1, 0, 4, 4), (1, 1, 0, 0), (1, 1, 0, 1), (1, 1, 0, 2), (1, 1, 0, 3), (1, 1, 0, 4), (1, 1, 1, 0), (1, 1, 1, 1), (1, 1, 1, 2), (1, 1, 1, 3), (1, 1, 1, 4), (1, 1, 2, 0), (1, 1, 2, 1), (1, 1, 2, 2), (1, 1, 2, 3), (1, 1, 2, 4), (1, 1, 3, 0), (1, 1, 3, 1), (1, 1, 3, 2), (1, 1, 3, 3), (1, 1, 3, 4), (1, 1, 4, 0), (1, 1, 4, 1), (1, 1, 4, 2), (1, 1, 4, 3), (1, 1, 4, 4), (1, 2, 0, 0), (1, 2, 0, 1), (1, 2, 0, 2), (1, 2, 0, 3), (1, 2, 0, 4), (1, 2, 1, 0), (1, 2, 1, 1), (1, 2, 1, 2), (1, 2, 1, 3), (1, 2, 1, 4), (1, 2, 2, 0), (1, 2, 2, 1), (1, 2, 2, 2), (1, 2, 2, 3), (1, 2, 2, 4), (1, 2, 3, 0), (1, 2, 3, 1), (1, 2, 3, 2), (1, 2, 3, 3), (1, 2, 3, 4), (1, 2, 4, 0), (1, 2, 4, 1), (1, 2, 4, 2), (1, 2, 4, 3), (1, 2, 4, 4), (1, 3, 0, 0), (1, 3, 0, 1), (1, 3, 0, 2), (1, 3, 0, 3), (1, 3, 0, 4), (1, 3, 1, 0), (1, 3, 1, 1), (1, 3, 1, 2), (1, 3, 1, 3), (1, 3, 1, 4), (1, 3, 2, 0), (1, 3, 2, 1), (1, 3, 2, 2), (1, 3, 2, 3), (1, 3, 2, 4), (1, 3, 3, 0), (1, 3, 3, 1), (1, 3, 3, 2), (1, 3, 3, 3), (1, 3, 3, 4), (1, 3, 4, 0), (1, 3, 4, 1), (1, 3, 4, 2), (1, 3, 4, 3), (1, 3, 4, 4), (1, 4, 0, 0), (1, 4, 0, 1), (1, 4, 0, 2), (1, 4, 0, 3), (1, 4, 0, 4), (1, 4, 1, 0), (1, 4, 1, 1), (1, 4, 1, 2), (1, 4, 1, 3), (1, 4, 1, 4), (1, 4, 2, 0), (1, 4, 2, 1), (1, 4, 2, 2), (1, 4, 2, 3), (1, 4, 2, 4), (1, 4, 3, 0), (1, 4, 3, 1), (1, 4, 3, 2), (1, 4, 3, 3), (1, 4, 3, 4), (1, 4, 4, 0), (1, 4, 4, 1), (1, 4, 4, 2), (1, 4, 4, 3), (1, 4, 4, 4), (2, 0, 0, 0), (2, 0, 0, 1), (2, 0, 0, 2), (2, 0, 0, 3), (2, 0, 0, 4), (2, 0, 1, 0), (2, 0, 1, 1), (2, 0, 1, 2), (2, 0, 1, 3), (2, 0, 1, 4), (2, 0, 2, 0), (2, 0, 2, 1), (2, 0, 2, 2), (2, 0, 2, 3), (2, 0, 2, 4), (2, 0, 3, 0), (2, 0, 3, 1), (2, 0, 3, 2), (2, 0, 3, 3), (2, 0, 3, 4), (2, 0, 4, 0), (2, 0, 4, 1), (2, 0, 4, 2), (2, 0, 4, 3), (2, 0, 4, 4), (2, 1, 0, 0), (2, 1, 0, 1), (2, 1, 0, 2), (2, 1, 0, 3), (2, 1, 0, 4), (2, 1, 1, 0), (2, 1, 1, 1), (2, 1, 1, 2), (2, 1, 1, 3), (2, 1, 1, 4), (2, 1, 2, 0), (2, 1, 2, 1), (2, 1, 2, 2), (2, 1, 2, 3), (2, 1, 2, 4), (2, 1, 3, 0), (2, 1, 3, 1), (2, 1, 3, 2), (2, 1, 3, 3), (2, 1, 3, 4), (2, 1, 4, 0), (2, 1, 4, 1), (2, 1, 4, 2), (2, 1, 4, 3), (2, 1, 4, 4), (2, 2, 0, 0), (2, 2, 0, 1), (2, 2, 0, 2), (2, 2, 0, 3), (2, 2, 0, 4), (2, 2, 1, 0), (2, 2, 1, 1), (2, 2, 1, 2), (2, 2, 1, 3), (2, 2, 1, 4), (2, 2, 2, 0), (2, 2, 2, 1), (2, 2, 2, 2), (2, 2, 2, 3), (2, 2, 2, 4), (2, 2, 3, 0), (2, 2, 3, 1), (2, 2, 3, 2), (2, 2, 3, 3), (2, 2, 3, 4), (2, 2, 4, 0), (2, 2, 4, 1), (2, 2, 4, 2), (2, 2, 4, 3), (2, 2, 4, 4), (2, 3, 0, 0), (2, 3, 0, 1), (2, 3, 0, 2), (2, 3, 0, 3), (2, 3, 0, 4), (2, 3, 1, 0), (2, 3, 1, 1), (2, 3, 1, 2), (2, 3, 1, 3), (2, 3, 1, 4), (2, 3, 2, 0), (2, 3, 2, 1), (2, 3, 2, 2), (2, 3, 2, 3), (2, 3, 2, 4), (2, 3, 3, 0), (2, 3, 3, 1), (2, 3, 3, 2), (2, 3, 3, 3), (2, 3, 3, 4), (2, 3, 4, 0), (2, 3, 4, 1), (2, 3, 4, 2), (2, 3, 4, 3), (2, 3, 4, 4), (2, 4, 0, 0), (2, 4, 0, 1), (2, 4, 0, 2), (2, 4, 0, 3), (2, 4, 0, 4), (2, 4, 1, 0), (2, 4, 1, 1), (2, 4, 1, 2), (2, 4, 1, 3), (2, 4, 1, 4), (2, 4, 2, 0), (2, 4, 2, 1), (2, 4, 2, 2), (2, 4, 2, 3), (2, 4, 2, 4), (2, 4, 3, 0), (2, 4, 3, 1), (2, 4, 3, 2), (2, 4, 3, 3), (2, 4, 3, 4), (2, 4, 4, 0), (2, 4, 4, 1), (2, 4, 4, 2), (2, 4, 4, 3), (2, 4, 4, 4), (3, 0, 0, 0), (3, 0, 0, 1), (3, 0, 0, 2), (3, 0, 0, 3), (3, 0, 0, 4), (3, 0, 1, 0), (3, 0, 1, 1), (3, 0, 1, 2), (3, 0, 1, 3), (3, 0, 1, 4), (3, 0, 2, 0), (3, 0, 2, 1), (3, 0, 2, 2), (3, 0, 2, 3), (3, 0, 2, 4), (3, 0, 3, 0), (3, 0, 3, 1), (3, 0, 3, 2), (3, 0, 3, 3), (3, 0, 3, 4), (3, 0, 4, 0), (3, 0, 4, 1), (3, 0, 4, 2), (3, 0, 4, 3), (3, 0, 4, 4), (3, 1, 0, 0), (3, 1, 0, 1), (3, 1, 0, 2), (3, 1, 0, 3), (3, 1, 0, 4), (3, 1, 1, 0), (3, 1, 1, 1), (3, 1, 1, 2), (3, 1, 1, 3), (3, 1, 1, 4), (3, 1, 2, 0), (3, 1, 2, 1), (3, 1, 2, 2), (3, 1, 2, 3), (3, 1, 2, 4), (3, 1, 3, 0), (3, 1, 3, 1), (3, 1, 3, 2), (3, 1, 3, 3), (3, 1, 3, 4), (3, 1, 4, 0), (3, 1, 4, 1), (3, 1, 4, 2), (3, 1, 4, 3), (3, 1, 4, 4), (3, 2, 0, 0), (3, 2, 0, 1), (3, 2, 0, 2), (3, 2, 0, 3), (3, 2, 0, 4), (3, 2, 1, 0), (3, 2, 1, 1), (3, 2, 1, 2), (3, 2, 1, 3), (3, 2, 1, 4), (3, 2, 2, 0), (3, 2, 2, 1), (3, 2, 2, 2), (3, 2, 2, 3), (3, 2, 2, 4), (3, 2, 3, 0), (3, 2, 3, 1), (3, 2, 3, 2), (3, 2, 3, 3), (3, 2, 3, 4), (3, 2, 4, 0), (3, 2, 4, 1), (3, 2, 4, 2), (3, 2, 4, 3), (3, 2, 4, 4), (3, 3, 0, 0), (3, 3, 0, 1), (3, 3, 0, 2), (3, 3, 0, 3), (3, 3, 0, 4), (3, 3, 1, 0), (3, 3, 1, 1), (3, 3, 1, 2), (3, 3, 1, 3), (3, 3, 1, 4), (3, 3, 2, 0), (3, 3, 2, 1), (3, 3, 2, 2), (3, 3, 2, 3), (3, 3, 2, 4), (3, 3, 3, 0), (3, 3, 3, 1), (3, 3, 3, 2), (3, 3, 3, 3), (3, 3, 3, 4), (3, 3, 4, 0), (3, 3, 4, 1), (3, 3, 4, 2), (3, 3, 4, 3), (3, 3, 4, 4), (3, 4, 0, 0), (3, 4, 0, 1), (3, 4, 0, 2), (3, 4, 0, 3), (3, 4, 0, 4), (3, 4, 1, 0), (3, 4, 1, 1), (3, 4, 1, 2), (3, 4, 1, 3), (3, 4, 1, 4), (3, 4, 2, 0), (3, 4, 2, 1), (3, 4, 2, 2), (3, 4, 2, 3), (3, 4, 2, 4), (3, 4, 3, 0), (3, 4, 3, 1), (3, 4, 3, 2), (3, 4, 3, 3), (3, 4, 3, 4), (3, 4, 4, 0), (3, 4, 4, 1), (3, 4, 4, 2), (3, 4, 4, 3), (3, 4, 4, 4), (4, 0, 0, 0), (4, 0, 0, 1), (4, 0, 0, 2), (4, 0, 0, 3), (4, 0, 0, 4), (4, 0, 1, 0), (4, 0, 1, 1), (4, 0, 1, 2), (4, 0, 1, 3), (4, 0, 1, 4), (4, 0, 2, 0), (4, 0, 2, 1), (4, 0, 2, 2), (4, 0, 2, 3), (4, 0, 2, 4), (4, 0, 3, 0), (4, 0, 3, 1), (4, 0, 3, 2), (4, 0, 3, 3), (4, 0, 3, 4), (4, 0, 4, 0), (4, 0, 4, 1), (4, 0, 4, 2), (4, 0, 4, 3), (4, 0, 4, 4), (4, 1, 0, 0), (4, 1, 0, 1), (4, 1, 0, 2), (4, 1, 0, 3), (4, 1, 0, 4), (4, 1, 1, 0), (4, 1, 1, 1), (4, 1, 1, 2), (4, 1, 1, 3), (4, 1, 1, 4), (4, 1, 2, 0), (4, 1, 2, 1), (4, 1, 2, 2), (4, 1, 2, 3), (4, 1, 2, 4), (4, 1, 3, 0), (4, 1, 3, 1), (4, 1, 3, 2), (4, 1, 3, 3), (4, 1, 3, 4), (4, 1, 4, 0), (4, 1, 4, 1), (4, 1, 4, 2), (4, 1, 4, 3), (4, 1, 4, 4), (4, 2, 0, 0), (4, 2, 0, 1), (4, 2, 0, 2), (4, 2, 0, 3), (4, 2, 0, 4), (4, 2, 1, 0), (4, 2, 1, 1), (4, 2, 1, 2), (4, 2, 1, 3), (4, 2, 1, 4), (4, 2, 2, 0), (4, 2, 2, 1), (4, 2, 2, 2), (4, 2, 2, 3), (4, 2, 2, 4), (4, 2, 3, 0), (4, 2, 3, 1), (4, 2, 3, 2), (4, 2, 3, 3), (4, 2, 3, 4), (4, 2, 4, 0), (4, 2, 4, 1), (4, 2, 4, 2), (4, 2, 4, 3), (4, 2, 4, 4), (4, 3, 0, 0), (4, 3, 0, 1), (4, 3, 0, 2), (4, 3, 0, 3), (4, 3, 0, 4), (4, 3, 1, 0), (4, 3, 1, 1), (4, 3, 1, 2), (4, 3, 1, 3), (4, 3, 1, 4), (4, 3, 2, 0), (4, 3, 2, 1), (4, 3, 2, 2), (4, 3, 2, 3), (4, 3, 2, 4), (4, 3, 3, 0), (4, 3, 3, 1), (4, 3, 3, 2), (4, 3, 3, 3), (4, 3, 3, 4), (4, 3, 4, 0), (4, 3, 4, 1), (4, 3, 4, 2), (4, 3, 4, 3), (4, 3, 4, 4), (4, 4, 0, 0), (4, 4, 0, 1), (4, 4, 0, 2), (4, 4, 0, 3), (4, 4, 0, 4), (4, 4, 1, 0), (4, 4, 1, 1), (4, 4, 1, 2), (4, 4, 1, 3), (4, 4, 1, 4), (4, 4, 2, 0), (4, 4, 2, 1), (4, 4, 2, 2), (4, 4, 2, 3), (4, 4, 2, 4), (4, 4, 3, 0), (4, 4, 3, 1), (4, 4, 3, 2), (4, 4, 3, 3), (4, 4, 3, 4), (4, 4, 4, 0), (4, 4, 4, 1), (4, 4, 4, 2), (4, 4, 4, 3), (4, 4, 4, 4)]\n"
     ]
    }
   ],
   "source": [
    "def cartesian_product(arr): \n",
    "\n",
    "    # return the list of all the computed tuples \n",
    "    # using the product() method \n",
    "    return list(product(arr, arr, arr, arr)) \n",
    "\n",
    "cartesianList = cartesian_product(arr)\n",
    "print(len(cartesianList))\n",
    "print(cartesianList)"
   ]
  },
  {
   "cell_type": "markdown",
   "metadata": {},
   "source": [
    "**We want to rewrite the original subtask into a padded subttask, name it, and then write out the JSON and the image following naming conventions from Subtask notebook.\n",
    "We will also write out a file for each training pair and each test pair**"
   ]
  },
  {
   "cell_type": "code",
   "execution_count": 8,
   "metadata": {},
   "outputs": [],
   "source": [
    "PAD = 1\n",
    "arr = list(range(-PAD,PAD + 1))\n",
    "padded_train_pairs = []\n",
    "padded_test_pairs = []\n",
    "dict_all_padded = {}\n"
   ]
  },
  {
   "cell_type": "code",
   "execution_count": 9,
   "metadata": {},
   "outputs": [],
   "source": [
    "def create_padding(task, n_train_pairs, n_test_pairs, baseName=\"newPaddingName\"):\n",
    "\n",
    "#     print(\"base name in create_padding: \" + baseName, \" n_train_pairs: \", n_train_pairs)\n",
    "    \n",
    "#     for i in range(len(cartesianList)):\n",
    "    for i in range(0,len(cartesianList)):\n",
    "    # makePaddingString(yShift, xShift) ... return yChangeString, xChangeString\n",
    "    # so yChangeString will be renamedPaddingInput[0] and xChangeString is renamedPaddingInput[1]\n",
    "\n",
    "        leftShift = cartesianList[i][0]\n",
    "        rightShift = cartesianList[i][1]\n",
    "        topsShift = cartesianList[i][2]\n",
    "        bottomShift = cartesianList[i][3]\n",
    "\n",
    "        # loop through training pairs\n",
    "        training_pair_counter = 0\n",
    "        # dictionary object to hold our modified padded task. Iterate through each training pair and\n",
    "        # \n",
    "        padded_train_pairs = []\n",
    "        for training_pair_counter in range(n_train_pairs):            \n",
    "            # Input\n",
    "            originalTrainingInput = task['train'][training_pair_counter]['input']\n",
    "            # convert it to a tensor...\n",
    "            inputTrainingTensor = torch.tensor(originalTrainingInput)\n",
    "            # ... and get its size ...\n",
    "            originalTrainingInputSize = list(inputTrainingTensor.size())\n",
    "#             print(\"originalTrainingInputSize is \", originalTrainingInputSize)\n",
    "            # ... so that we can pad it pad=(left, right, top, bottom)\n",
    "            paddedTrainingInput = F.pad(input=inputTrainingTensor, pad=(leftShift,rightShift, topsShift, bottomShift), mode='constant', value=0)\n",
    "            # create variable to hold this newly padded size\n",
    "            paddedTrainingInputSize = list(paddedTrainingInput.size())\n",
    "#             print(\"paddedTrainingInputSize is \", paddedTrainingInputSize)\n",
    "            inputTrainingSizeIncrease = showSizeIncrease(originalTrainingInputSize, paddedTrainingInputSize)\n",
    "    \n",
    "            # Output\n",
    "            originalTrainingOutput = task['train'][training_pair_counter]['output']\n",
    "            # convert it to a tensor...\n",
    "            outputTrainingTensor = torch.tensor(task['train'][training_pair_counter]['output'])\n",
    "            # ... and get its size ...\n",
    "            originalTrainingOutputSize = list(outputTrainingTensor.size())\n",
    "            # ... so that we can pad it\n",
    "            paddedTrainingOutput = F.pad(input=outputTrainingTensor, pad=(leftShift,rightShift, topsShift, bottomShift), mode='constant', value=0)\n",
    "            # create variable to hold this newly padded size\n",
    "            paddedTrainingOutputSize = list(paddedTrainingOutput.size())\n",
    "            outputTrainingSizeIncrease = showSizeIncrease(originalTrainingOutputSize, paddedTrainingOutputSize)\n",
    "            padded_train_pairs.append([paddedTrainingInput, paddedTrainingOutput])\n",
    "            # test\n",
    "        padded_test_pairs = []\n",
    "        for test_pair_counter in range(n_test_pairs):\n",
    "            # Input\n",
    "            originalTestInput = task['test'][test_pair_counter]['input']\n",
    "            inputTestTensor = torch.tensor(originalTestInput)\n",
    "            originalTestInputSize = list(inputTestTensor.size())\n",
    "            paddedTestInput = F.pad(input=inputTestTensor, pad=(leftShift,rightShift, topsShift, bottomShift), mode='constant', value=0)\n",
    "            paddedTestInputSize = list(paddedTestInput.size())\n",
    "            inputTestSizeIncrease = showSizeIncrease(originalTestInputSize, paddedTestInputSize)\n",
    "#             print(\"inputTestSizeIncrease is \", inputTestSizeIncrease)\n",
    "            paddedInputTestToTensor = torch.tensor(paddedTestInput)\n",
    "            # Output\n",
    "            originalTestOutput = task['test'][test_pair_counter]['output']\n",
    "            outputTestTensor = torch.tensor(task['test'][test_pair_counter]['output'])\n",
    "            originalTestOutputSize = list(outputTestTensor.size())\n",
    "            paddedTestOutput = F.pad(input=outputTestTensor, pad=(leftShift,rightShift, topsShift, bottomShift), mode='constant', value=0)\n",
    "            paddedTestOutputSize = list(paddedTestOutput.size())\n",
    "            outputTestSizeIncrease = showSizeIncrease(originalTestOutputSize, paddedTestOutputSize)\n",
    "            list_paddedTestOutputSize = list(paddedTestOutput.size())\n",
    "            paddedOutputTestToTensor = torch.tensor(paddedTestOutput)\n",
    "\n",
    "            padded_test_pairs.append([paddedInputTestToTensor, paddedOutputTestToTensor])\n",
    "#         print(\"padded_test_pairs = \", padded_test_pairs)\n",
    "#         print(\"padded_test_pairs length = \", len(padded_test_pairs))\n",
    "#       now reassemble these matrices into a single padding task\n",
    "\n",
    "        padded_train_dict = {'train': []}\n",
    "        for item in padded_train_pairs:\n",
    "            padded_train_dict['train'].append({\n",
    "                'input': item[0].tolist(),\n",
    "                'output': item[1].tolist()\n",
    "            })\n",
    "        padded_test_dict = {'test': []}\n",
    "        for item in padded_test_pairs:\n",
    "            padded_test_dict['test'].append({\n",
    "                'input': item[0].tolist(),\n",
    "                'output': item[1].tolist()\n",
    "            })\n",
    "#         print(\"padded_test_dict is \", padded_test_dict)\n",
    "\n",
    "        dict_all_padded.update(padded_train_dict)\n",
    "        dict_all_padded.update(padded_test_dict)\n",
    "        sizeIncrease = inputTestSizeIncrease\n",
    "        # the following line is if we want to write out the JSON\n",
    "#         plot_task(dict_all_padded, padded_plot_name)\n",
    "        create_subtasks(dict_all_padded,baseName, sizeIncrease)"
   ]
  },
  {
   "cell_type": "code",
   "execution_count": 10,
   "metadata": {},
   "outputs": [],
   "source": [
    "def create_subtasks(task, baseName=\"newPaddingName\", sizeIncrease=\"whatSizeIncrease?\"):\n",
    "#     print(\"baseName in create_subtasks is \", baseName)\n",
    "# currently setting changeColor to True, but what we want is to run it once with it set to true, then once set to \n",
    "# false. \n",
    "    changeColor = True\n",
    "# getting length of list \n",
    "    trainLength = len(task['train'])\n",
    "    trainInputAndOutputPairs = task['train']\n",
    "    testLength = len(task['test'])\n",
    "    testInputAndOutputPairs = task['test']\n",
    "    \n",
    "    if changeColor:\n",
    "        colorChange = \"_cc\" + str(adder)\n",
    "    else:\n",
    "        colorChange = \"\"\n",
    "    \n",
    "    # Iterating the index \n",
    "    for i in range(trainLength): \n",
    "        inputTraSinglePlotName =  baseName + 'tr' + str(i) + \"0\" + sizeIncrease + colorChange\n",
    "        outputTraSinglePlotName = baseName + 'tr' + str(i) + \"1\" + sizeIncrease  + colorChange\n",
    "        # tra_2_25d8a9c8_D2_1r2c.png\n",
    "        inputTraSingleFileName = inputTraSinglePlotName  + \".lst\"\n",
    "        outputTraSingleFileName  = outputTraSinglePlotName + \".lst\"\n",
    "#         print(\"inputTraSinglePlotName in create_subtasks is\", inputTraSinglePlotName)\n",
    "        if changeColor:\n",
    "            trainInputAndOutputPairs[i]['input'] = colorMyTensor(trainInputAndOutputPairs[i]['input'])\n",
    "            trainInputAndOutputPairs[i]['output'] = colorMyTensor(trainInputAndOutputPairs[i]['output'])\n",
    "        write_single_file(trainInputAndOutputPairs[i]['input'], inputTraSingleFileName)\n",
    "        write_single_file(trainInputAndOutputPairs[i]['output'], outputTraSingleFileName)\n",
    "        plot_single(trainInputAndOutputPairs[i]['input'], inputTraSinglePlotName)\n",
    "        plot_single(trainInputAndOutputPairs[i]['output'], outputTraSinglePlotName)\n",
    "\n",
    "    for i in range(testLength): \n",
    "#         print(testInputAndOutputPairs[i]['input'],  baseName + '_tst_input_' + str(i)) \n",
    "#         print(testInputAndOutputPairs[i]['output'],  baseName + '_tst_output_' + str(i)) \n",
    "        \n",
    "        inputTstSinglePlotName  = baseName + 'ts' + str(i) + \"0\"  + sizeIncrease\n",
    "        outputTstSinglePlotName = baseName + 'ts' + str(i) + \"1\" + sizeIncrease\n",
    "        # names for plotted test subtasks\n",
    "        inputTstSingleFileName = inputTstSinglePlotName + \".lst\"\n",
    "        outputTstSingleFileName = outputTstSinglePlotName + \".lst\"\n",
    "\n",
    "        write_single_file(testInputAndOutputPairs[i]['input'], inputTstSingleFileName)\n",
    "        write_single_file(testInputAndOutputPairs[i]['output'], outputTstSingleFileName)\n",
    "        plot_single(testInputAndOutputPairs[i]['input'], inputTstSinglePlotName)\n",
    "        plot_single(testInputAndOutputPairs[i]['output'], outputTstSinglePlotName)"
   ]
  },
  {
   "cell_type": "code",
   "execution_count": 11,
   "metadata": {},
   "outputs": [
    {
     "name": "stdout",
     "output_type": "stream",
     "text": [
      "[[8, 9, 8], [2, 3, 2], [7, 4, 7]]\n"
     ]
    }
   ],
   "source": [
    "listToColor = [[8,9,8],\n",
    "        [2, 3, 2],\n",
    "        [7, 4, 7]]\n",
    "# print(listToColor, type(listToColor))\n",
    "tensorToColor = torch.tensor(listToColor)\n",
    "changed_color_tensor = torch.add(tensorToColor,adder)\n",
    "# uniqueValues = torch.unique(torch.tensor(tensorToColor, dtype=torch.long))\n",
    "# uniqueValuesToArray = uniqueValues.numpy()\n",
    "# uniqueValuesToArray\n",
    "# boogie = np.random.choice(uniqueValuesToArray,2)\n",
    "# print(type(uniqueValues.numpy()))\n",
    "# boogie\n",
    "#     don't think we need this next line, but if the one below it fails, try it\n",
    "#     tensorToChange = torch.tensor(changed_color_tensor, dtype=torch.uint8)\n",
    "\n",
    "# tensorToChange = torch.tensor(changed_color_tensor, dtype=torch.uint8)\n",
    "changed_color_tensor[changed_color_tensor==10] = 0 #this means you added 1 to 9 and it's the only thing over 9\n",
    "# To vary the number added, and to account for it:\n",
    "changed_color_tensor[changed_color_tensor==11] = 1     #this means you added 2 to 9 so both 8 and 9 are over 9\n",
    "changed_color_tensor[changed_color_tensor==12] = 2   #this means you added 3 so 7, 8, 9, and 10 are over 9\n",
    "changed_color_tensor[changed_color_tensor==13] = 3   #added 4 to 9, so 6, 7, 8, 9, and 10 are over 9\n",
    "\n",
    "# formula is changed_color_tensor[changed_color_tensor==10] = 0\n",
    "# TODO - experiment with just changing the background color. That is, just changing 0 to 1, to 2, to 3, etc. \n",
    "# That is a variation on a larger generalized change: change just one color at a time. But that would probably\n",
    "# only work if the adjacent color was not the same as the new one. \n",
    "changedColorList = changed_color_tensor.tolist()\n",
    "print(changedColorList)\n"
   ]
  },
  {
   "cell_type": "code",
   "execution_count": 12,
   "metadata": {
    "scrolled": false
   },
   "outputs": [],
   "source": [
    "# This function shoud be called last, after an augmented tensor has been created\n",
    "\n",
    "def colorMyTensor(listToColor):\n",
    "\n",
    "    # adder is the offset to change color. If adder is 1, then 0 becomes 1, one becomes 2, etc. \n",
    "#     print(\"inputList = \", listToColor)\n",
    "#     print(type(listToColor)) #list\n",
    "    tensorToColor = torch.tensor(listToColor) #convert to pytorch tensor\n",
    "    changed_color_tensor = torch.add(tensorToColor,adder)\n",
    "\n",
    "    # the below is for testing:\n",
    "    #     tensorToColor = [[8,9,8],\n",
    "    #             [2, 3, 2],\n",
    "    #             [7, 4, 7]]\n",
    "    #     tensorToColor = torch.tensor(tensorToColor)\n",
    "    #     changed_color_tensor = torch.add(tensorToColor,adder)\n",
    "    # uniqueValues = torch.unique(torch.tensor(tensorToColor, dtype=torch.long))\n",
    "    # uniqueValuesToArray = uniqueValues.numpy()\n",
    "    # uniqueValuesToArray\n",
    "    # boogie = np.random.choice(uniqueValuesToArray,2)\n",
    "    # print(type(uniqueValues.numpy()))\n",
    "    # boogie\n",
    "    # don't think we need this next line, but if the one below it fails, try it\n",
    "    # tensorToChange = torch.tensor(changed_color_tensor, dtype=torch.uint8)\n",
    "\n",
    "#     tensorToChange = torch.tensor(changed_color_tensor, dtype=torch.uint8)\n",
    "    changed_color_tensor[changed_color_tensor==10] = 0 #this means you added 1 to 9 and it's the only thing over 9\n",
    "    # To vary the number added, and to account for it:\n",
    "    changed_color_tensor[changed_color_tensor==11] = 1     #this means you added 2 to 9 so both 8 and 9 are over 9\n",
    "    changed_color_tensor[changed_color_tensor==12] = 2   #this means you added 3 to 9 so 8, 9, and 10 are over 9\n",
    "    # TODO - experiment with just changing the background color. That is, just changing 0 to 1, to 2, to 3, etc. \n",
    "    # That is a variation on a larger generalized change: change just one color at a time. But that would probably\n",
    "    # only work if the adjacent color was not the same as the new one. \n",
    "    changedColorList = changed_color_tensor.tolist()\n",
    "#     print(\"changedColorList = \", changedColorList)\n",
    "    return changedColorList\n"
   ]
  },
  {
   "cell_type": "code",
   "execution_count": 13,
   "metadata": {},
   "outputs": [],
   "source": [
    "def write_single_file(listOflists, filename):\n",
    "\n",
    "    class NumpyEncoder(json.JSONEncoder):\n",
    "        def default(self, obj):\n",
    "            if isinstance(obj, np.ndarray):\n",
    "                return obj.tolist()\n",
    "            return json.JSONEncoder.default(self, obj)\n",
    "\n",
    "    json_dump = json.dumps(listOflists, cls=NumpyEncoder)\n",
    "\n",
    "\n",
    "    # name the directory with the tasks's baseName\n",
    "    directory = baseName\n",
    "    # Parent Directory path\n",
    "    parent_dir = str(augment_path)\n",
    "    # Path\n",
    "    path = Path(os.path.join(parent_dir, directory))\n",
    "    taskDirectory = path.mkdir(parents=True, exist_ok=True)\n",
    "#     file_name_with_path = os.path.join(str(augment_path), filename)\n",
    "    file_name_with_path = os.path.join(str(path), filename)\n",
    "\n",
    "\n",
    "#     print(\"file_name_with_path in write_single_file: \", file_name_with_path)\n",
    "    outfile = open(file_name_with_path, \"w\")\n",
    "    outfile.write(json_dump)\n",
    "    outfile.close()"
   ]
  },
  {
   "cell_type": "code",
   "execution_count": null,
   "metadata": {},
   "outputs": [
    {
     "name": "stderr",
     "output_type": "stream",
     "text": [
      "/opt/conda/lib/python3.7/site-packages/ipykernel_launcher.py:58: UserWarning: To copy construct from a tensor, it is recommended to use sourceTensor.clone().detach() or sourceTensor.clone().detach().requires_grad_(True), rather than torch.tensor(sourceTensor).\n",
      "/opt/conda/lib/python3.7/site-packages/ipykernel_launcher.py:67: UserWarning: To copy construct from a tensor, it is recommended to use sourceTensor.clone().detach() or sourceTensor.clone().detach().requires_grad_(True), rather than torch.tensor(sourceTensor).\n"
     ]
    }
   ],
   "source": [
    "# Set how many training tasks we're going to iterate thru\n",
    "\n",
    "for i, json_path in enumerate(training_tasks[13:20], start=13):\n",
    "    \n",
    "    task_file = str(training_path / json_path)\n",
    "#     print(\"task_file in enumerate, \", task_file)\n",
    "    with open(task_file, 'r') as f:\n",
    "        task = json.load(f)\n",
    "# print a list of task_files, e.g. 000 /storage/data/training/007bbfb7.json\n",
    "#    print(f\"{i:03d}\", task_file)\n",
    "\n",
    "    n_train_pairs = len(task['train'])\n",
    "    n_test_pairs = len(task['test'])\n",
    "#     task_file = str(training_path / training_tasks[i]) # the JSON file we're looking at, including its path\n",
    "#     task is the full JSON object including train and test input and output \n",
    "#     print(\"training_tasks[i] in enumerate is \", training_tasks[i])\n",
    "    if training_tasks[i].index(substring):\n",
    "        idx = training_tasks[i].index(substring)\n",
    "        if idx > 0:\n",
    "            baseName = training_tasks[i][:idx]\n",
    "#             print(\"substring: \", substring)\n",
    "#             print(\"baseName in enumerate(training_tasks: \", baseName)\n",
    "\n",
    "    create_padding(task, n_train_pairs, n_test_pairs, baseName)\n",
    "    \n"
   ]
  },
  {
   "cell_type": "markdown",
   "metadata": {},
   "source": [
    "Let's do some transformation on this one's two inputs and outputs. We'll start with a flip:"
   ]
  },
  {
   "cell_type": "code",
   "execution_count": null,
   "metadata": {},
   "outputs": [],
   "source": [
    "#  Let's do some transformation on this one's two inputs and outputs:\n",
    "# original = task['train'][2]['input']\n",
    "# flipped = (np.fliplr(original))"
   ]
  },
  {
   "cell_type": "code",
   "execution_count": null,
   "metadata": {},
   "outputs": [],
   "source": [
    "# torch.tensor(original).shape"
   ]
  },
  {
   "cell_type": "code",
   "execution_count": null,
   "metadata": {},
   "outputs": [],
   "source": []
  }
 ],
 "metadata": {
  "kernelspec": {
   "display_name": "Python 3 (ipykernel)",
   "language": "python",
   "name": "python3"
  },
  "language_info": {
   "codemirror_mode": {
    "name": "ipython",
    "version": 3
   },
   "file_extension": ".py",
   "mimetype": "text/x-python",
   "name": "python",
   "nbconvert_exporter": "python",
   "pygments_lexer": "ipython3",
   "version": "3.7.11"
  }
 },
 "nbformat": 4,
 "nbformat_minor": 4
}
