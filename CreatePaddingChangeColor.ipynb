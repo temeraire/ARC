{
 "cells": [
  {
   "cell_type": "markdown",
   "metadata": {},
   "source": [
    "# Create Padding Change Color"
   ]
  },
  {
   "cell_type": "markdown",
   "metadata": {},
   "source": []
  },
  {
   "cell_type": "markdown",
   "metadata": {},
   "source": [
    "**Note:**\n",
    "- The fundamental idea here is data augmentation. We can change position in the grid, as well as color. We can also try other techniques\n",
    "- But instead of moving the target pattern around, we can 'move' it just by adjusting the padding and number of rows and columns, then use Cartesian multiplication\n",
    "- We are currently swapping two colors (the first two in any list). We can probably use cartesian lists in order to do a smarter swap\n",
    "- Setting pad=0 seems to do the same thing as just converting the original. Not sure about this. But it does append to the name, e.g. tra_0_007bbfb7_pd__0r0c.png\n",
    "- Currently writing out pairs, but to the colors folder of full_task. This should be fixed(?). The only reason to write out the entire task is to see it colorized. If needed, then see https://www.kaggle.com/boliu0/visualizing-all-task-pairs-with-gridlines\n"
   ]
  },
  {
   "cell_type": "code",
   "execution_count": 1,
   "metadata": {
    "_cell_guid": "b1076dfc-b9ad-4769-8c92-a6c4dae69d19",
    "_uuid": "8f2839f25d086af736a60e9eeb907d3b93b6e0e5",
    "execution": {
     "iopub.execute_input": "2023-02-21T01:11:21.266023Z",
     "iopub.status.busy": "2023-02-21T01:11:21.265621Z",
     "iopub.status.idle": "2023-02-21T01:11:23.347218Z",
     "shell.execute_reply": "2023-02-21T01:11:23.346039Z",
     "shell.execute_reply.started": "2023-02-21T01:11:21.265917Z"
    }
   },
   "outputs": [],
   "source": [
    "import numpy as np\n",
    "import pandas as pd\n",
    "import torch\n",
    "import os\n",
    "import json\n",
    "from pathlib import Path\n",
    "import re\n",
    "import itertools\n",
    "from itertools import product\n",
    "from torchtext import data\n",
    "import torch.nn.functional as F\n",
    "from os import listdir\n",
    "from os.path import isfile, join\n",
    "import matplotlib.pyplot as plt\n",
    "from matplotlib import colors\n",
    "\n",
    "# thank you to \"visualizing all task pairs with gridlines\" and \"starter notebook\"!\n"
   ]
  },
  {
   "attachments": {
    "colormap.jpg": {
     "image/jpeg": "[encoded data removed]"
    }
   },
   "cell_type": "markdown",
   "metadata": {},
   "source": [
    "![colormap.jpg](attachment:colormap.jpg)"
   ]
  },
  {
   "cell_type": "code",
   "execution_count": 2,
   "metadata": {
    "execution": {
     "iopub.execute_input": "2023-02-21T01:11:23.349760Z",
     "iopub.status.busy": "2023-02-21T01:11:23.349432Z",
     "iopub.status.idle": "2023-02-21T01:11:23.355847Z",
     "shell.execute_reply": "2023-02-21T01:11:23.354399Z",
     "shell.execute_reply.started": "2023-02-21T01:11:23.349722Z"
    }
   },
   "outputs": [],
   "source": [
    "# tensorToColor = [[4, 4, 4],\n",
    "#         [2, 3, 2],\n",
    "#         [2, 3, 3]]\n",
    "# uniqueValues = torch.unique(torch.tensor(tensorToColor, dtype=torch.long))\n",
    "# uniqueValuesToArray = uniqueValues.numpy()\n",
    "# boogie = np.random.choice(uniqueValuesArray,2)\n",
    "# # print(type(uniqueValues.numpy()))\n",
    "# boogie\n",
    "# colorMyTensor(tensorToColor)"
   ]
  },
  {
   "cell_type": "code",
   "execution_count": 3,
   "metadata": {
    "execution": {
     "iopub.execute_input": "2023-02-21T01:11:23.358398Z",
     "iopub.status.busy": "2023-02-21T01:11:23.358069Z",
     "iopub.status.idle": "2023-02-21T01:11:23.373183Z",
     "shell.execute_reply": "2023-02-21T01:11:23.372305Z",
     "shell.execute_reply.started": "2023-02-21T01:11:23.358356Z"
    }
   },
   "outputs": [
    {
     "data": {
      "text/plain": [
       "[4, 2, 3, 4, 3, 2, 4, 4]"
      ]
     },
     "execution_count": 3,
     "metadata": {},
     "output_type": "execute_result"
    }
   ],
   "source": [
    "# list comprehension with ternary operator\n",
    "a=[1,2,3,1,3,2,1,1]\n",
    "[4 if x==1 else x for x in a]"
   ]
  },
  {
   "cell_type": "code",
   "execution_count": 4,
   "metadata": {
    "execution": {
     "iopub.execute_input": "2023-02-21T01:11:23.377318Z",
     "iopub.status.busy": "2023-02-21T01:11:23.376077Z",
     "iopub.status.idle": "2023-02-21T01:11:23.382477Z",
     "shell.execute_reply": "2023-02-21T01:11:23.380808Z",
     "shell.execute_reply.started": "2023-02-21T01:11:23.377259Z"
    }
   },
   "outputs": [],
   "source": [
    "# for dirname, _, filenames in os.walk('/storage/data'):\n",
    "#     print(dirname)"
   ]
  },
  {
   "cell_type": "code",
   "execution_count": 5,
   "metadata": {
    "_cell_guid": "79c7e3d0-c299-4dcb-8224-4455121ee9b0",
    "_uuid": "d629ff2d2480ee46fbb7e2d37f6b5fab8052498a",
    "execution": {
     "iopub.execute_input": "2023-02-21T01:11:23.384455Z",
     "iopub.status.busy": "2023-02-21T01:11:23.384112Z",
     "iopub.status.idle": "2023-02-21T01:11:23.590381Z",
     "shell.execute_reply": "2023-02-21T01:11:23.587289Z",
     "shell.execute_reply.started": "2023-02-21T01:11:23.384414Z"
    }
   },
   "outputs": [
    {
     "ename": "FileNotFoundError",
     "evalue": "[Errno 2] No such file or directory: '/storage/data/training'",
     "output_type": "error",
     "traceback": [
      "\u001b[0;31m---------------------------------------------------------------------------\u001b[0m",
      "\u001b[0;31mFileNotFoundError\u001b[0m                         Traceback (most recent call last)",
      "\u001b[0;32m/tmp/ipykernel_28/4205179931.py\u001b[0m in \u001b[0;36m<module>\u001b[0;34m\u001b[0m\n\u001b[1;32m     17\u001b[0m \u001b[0;34m\u001b[0m\u001b[0m\n\u001b[1;32m     18\u001b[0m \u001b[0;31m# define the list of tasks we're going to be iterating through\u001b[0m\u001b[0;34m\u001b[0m\u001b[0;34m\u001b[0m\u001b[0;34m\u001b[0m\u001b[0m\n\u001b[0;32m---> 19\u001b[0;31m \u001b[0mtraining_tasks\u001b[0m \u001b[0;34m=\u001b[0m \u001b[0msorted\u001b[0m\u001b[0;34m(\u001b[0m\u001b[0mos\u001b[0m\u001b[0;34m.\u001b[0m\u001b[0mlistdir\u001b[0m\u001b[0;34m(\u001b[0m\u001b[0mtraining_path\u001b[0m\u001b[0;34m)\u001b[0m\u001b[0;34m)\u001b[0m\u001b[0;34m\u001b[0m\u001b[0;34m\u001b[0m\u001b[0m\n\u001b[0m\u001b[1;32m     20\u001b[0m \u001b[0mprint\u001b[0m\u001b[0;34m(\u001b[0m\u001b[0mlen\u001b[0m\u001b[0;34m(\u001b[0m\u001b[0mtraining_tasks\u001b[0m\u001b[0;34m)\u001b[0m\u001b[0;34m)\u001b[0m\u001b[0;34m\u001b[0m\u001b[0;34m\u001b[0m\u001b[0m\n\u001b[1;32m     21\u001b[0m \u001b[0;31m# for i, json_path in enumerate(training_tasks[0:10]):\u001b[0m\u001b[0;34m\u001b[0m\u001b[0;34m\u001b[0m\u001b[0;34m\u001b[0m\u001b[0m\n",
      "\u001b[0;31mFileNotFoundError\u001b[0m: [Errno 2] No such file or directory: '/storage/data/training'"
     ]
    }
   ],
   "source": [
    "# Define Paths\n",
    "# \n",
    "# data_path = Path('/kaggle/input/abstraction-and-reasoning-challenge/')\n",
    "# here it's in /storage/data\n",
    "\n",
    "data_path = Path('/storage/data/')\n",
    "training_path = data_path / 'training'\n",
    "evaluation_path = data_path / 'evaluation'\n",
    "test_path = data_path / 'test'\n",
    "augment_path = data_path / 'augment'\n",
    "fulltask_path = augment_path / 'fulltask'\n",
    "subtask_path = augment_path / 'subtask'\n",
    "task_color_path = fulltask_path / 'color'\n",
    "\n",
    "substring = '.json'\n",
    "baseName = \"\"\n",
    "\n",
    "# define the list of tasks we're going to be iterating through\n",
    "training_tasks = sorted(os.listdir(training_path))\n",
    "print(len(training_tasks))\n",
    "# for i, json_path in enumerate(training_tasks[0:10]):\n",
    "    \n",
    "#     task_file = str(training_path / json_path)\n",
    "# #     print(task_file)\n",
    "#     with open(task_file, 'r') as f:\n",
    "#         task = json.load(f)\n",
    "# print a list of task_files, e.g. 000 /storage/data/training/007bbfb7.json\n",
    "#    print(f\"{i:03d}\", task_file)"
   ]
  },
  {
   "cell_type": "markdown",
   "metadata": {},
   "source": [
    "# ***Naming Things With Meaning***\n"
   ]
  },
  {
   "cell_type": "code",
   "execution_count": null,
   "metadata": {
    "execution": {
     "iopub.status.busy": "2023-02-21T01:11:23.591730Z",
     "iopub.status.idle": "2023-02-21T01:11:23.592143Z",
     "shell.execute_reply": "2023-02-21T01:11:23.591980Z",
     "shell.execute_reply.started": "2023-02-21T01:11:23.591961Z"
    }
   },
   "outputs": [],
   "source": [
    " # ***Function to rename shapeString, e.g. \"10x10\"***\n",
    "def makeShapeStringXByY (inputOrOutput):\n",
    "    x = str(inputOrOutput[0])\n",
    "    y = str(inputOrOutput[1])\n",
    "    xToInsert = \"x\"\n",
    "    shapeString = x + xToInsert + y\n",
    "    return shapeString"
   ]
  },
  {
   "cell_type": "code",
   "execution_count": null,
   "metadata": {
    "execution": {
     "iopub.status.busy": "2023-02-21T01:11:23.593660Z",
     "iopub.status.idle": "2023-02-21T01:11:23.593992Z",
     "shell.execute_reply": "2023-02-21T01:11:23.593846Z",
     "shell.execute_reply.started": "2023-02-21T01:11:23.593828Z"
    }
   },
   "outputs": [],
   "source": [
    "def showSizeIncrease(originalInputOrOutputSize, paddedInputOrOutputSize):\n",
    "    #  trainingSizeIncrease = showSizeIncrease(originalTrainingInputSize, paddedTrainingInputSize)\n",
    "    originalRows = originalInputOrOutputSize[0]\n",
    "    originalColumns = originalInputOrOutputSize[1]\n",
    "    paddedRows = paddedInputOrOutputSize[0]\n",
    "    paddedColumns = paddedInputOrOutputSize[1]\n",
    "    rowDifference = (paddedRows - originalRows)\n",
    "    # cast to int so we don't have decimal points\n",
    "    rowDifference = int(rowDifference)\n",
    "    columnDifference = int(paddedColumns - originalColumns)\n",
    "    columnDifference = int(columnDifference)\n",
    "    strRowDifference = str(rowDifference)\n",
    "    strColumnDifference = str(columnDifference)\n",
    "    sizeIncreaseText = \"_\" + strRowDifference + \"r\" + strColumnDifference + \"c\"\n",
    "    return sizeIncreaseText"
   ]
  },
  {
   "cell_type": "markdown",
   "metadata": {},
   "source": [
    "**Function to add \"pd\" to any Padding filename. For Shifts, it will add indicators for down, up, left, right**"
   ]
  },
  {
   "cell_type": "code",
   "execution_count": null,
   "metadata": {
    "execution": {
     "iopub.status.busy": "2023-02-21T01:11:23.595849Z",
     "iopub.status.idle": "2023-02-21T01:11:23.596285Z",
     "shell.execute_reply": "2023-02-21T01:11:23.596076Z",
     "shell.execute_reply.started": "2023-02-21T01:11:23.596051Z"
    }
   },
   "outputs": [],
   "source": [
    "def makePaddingString(yShift, xShift):\n",
    "    xChangeString = \"\"\n",
    "    yChangeString = \"\"\n",
    "    if(xShift == 0 and yShift == 0):\n",
    "        xChangeString = \"pd_\"\n",
    "        yChangeString = \"\"\n",
    "    \n",
    "    if(yShift > 0):\n",
    "        yChangeString = \"D\" + str(yShift)\n",
    "    elif(yShift < 0):\n",
    "        yChangeString = \"U\" + str(abs(yShift))\n",
    "# say yShift is 2.  We're going D2. That means if we started with no pad, we now have a pad of 2 above.\n",
    "# That in turn means we have to have added at least 2.\n",
    "\n",
    "    if(xShift > 0):\n",
    "        xChangeString = \"R\" + str(xShift)\n",
    "    elif(xShift < 0):\n",
    "        xChangeString = \"L\" + str(abs(xShift))\n",
    "    \n",
    "    return yChangeString, xChangeString"
   ]
  },
  {
   "cell_type": "code",
   "execution_count": null,
   "metadata": {
    "execution": {
     "iopub.status.busy": "2023-02-21T01:11:23.597832Z",
     "iopub.status.idle": "2023-02-21T01:11:23.598236Z",
     "shell.execute_reply": "2023-02-21T01:11:23.598041Z",
     "shell.execute_reply.started": "2023-02-21T01:11:23.598018Z"
    }
   },
   "outputs": [],
   "source": [
    "def plot_task(task, baseName=\"newNumber\"):\n",
    "    \"\"\"\n",
    "    Plots however many train and test pairs there are of a specified task,\n",
    "    using same color scheme as the ARC app\n",
    "    Here in Create Padding Change Color, the path is changed to task_color_path\n",
    "    \"\"\"\n",
    "    cmap = colors.ListedColormap(\n",
    "        ['#000000', '#0074D9','#FF4136','#2ECC40','#FFDC00',\n",
    "         '#AAAAAA', '#F012BE', '#FF851B', '#7FDBFF', '#870C25'])\n",
    "    norm = colors.Normalize(vmin=0, vmax=9)\n",
    "    # 0 black, 1 blue, 2 red, 3 green, 4 yellow, 5 grey, 6 pink, 7 orange, 8 light blue, 9 brown\n",
    "    # loop through training pairs\n",
    "    training_pair_counter = 0\n",
    "    for training_pair_counter in range(n_train_pairs):\n",
    "        # variable assignment: assigns 1 to fig and 2 to ax\n",
    "        fig, ax = plt.subplots(1, 2)\n",
    "#             print(\" training_pair_counter in plot_task = \"+ str(training_pair_counter))\n",
    "        # temporarily:\n",
    "#             print(type(task['train'][training_pair_counter]['input']))\n",
    "#             print(\"task['train'][training_pair_counter]['input']: \", task['train'][training_pair_counter]['input'])\n",
    "        ax[0].imshow(task['train'][training_pair_counter]['input'], cmap=cmap, norm=norm)\n",
    "        width = np.shape(task['train'][training_pair_counter]['input'])[1]\n",
    "        height = np.shape(task['train'][training_pair_counter]['input'])[0]\n",
    "        ax[0].set_xticks(np.arange(-.5,width))\n",
    "        ax[0].set_yticks(np.arange(-.5,height))\n",
    "        ax[0].set_xticklabels([])\n",
    "        ax[0].set_yticklabels([])\n",
    "        ax[0].tick_params(length=0)\n",
    "        ax[0].grid(True)\n",
    "        ax[0].set_title('trIn_' + str(training_pair_counter) + '_' + baseName)\n",
    "        # the output for the corresponding training task\n",
    "        ax[1].imshow(task['train'][training_pair_counter]['output'], cmap=cmap, norm=norm)\n",
    "        width = np.shape(task['train'][training_pair_counter]['output'])[1]\n",
    "        height = np.shape(task['train'][training_pair_counter]['output'])[0]\n",
    "        ax[1].set_xticks(np.arange(-.5,width))\n",
    "        ax[1].set_yticks(np.arange(-.5,height))\n",
    "        ax[1].set_xticklabels([])\n",
    "        ax[1].set_yticklabels([])\n",
    "        ax[1].tick_params(length=0)\n",
    "        ax[1].grid(True)\n",
    "        train_pair_name = 'tra_' + str(training_pair_counter) + '_' + baseName\n",
    "        ax[1].set_title('trOut_' + str(training_pair_counter) + '_' + baseName)\n",
    "        plt.tight_layout()\n",
    "        train_pair_file_name_with_path = os.path.join(str(task_color_path), train_pair_name)\n",
    "        print(\"train_pair_file_name_with_path in plot_task: \", train_pair_file_name_with_path)\n",
    "        plt.savefig(train_pair_file_name_with_path)\n",
    "        plt.show()\n",
    "        plt.close()\n",
    "            \n",
    "    # the input and output for the test pair n_test_pairs\n",
    "    for test_pair_counter in range(n_test_pairs):\n",
    "        figure, axis = plt.subplots(1, 2)\n",
    "        axis[0].imshow(task['test'][test_pair_counter]['input'], cmap=cmap, norm=norm)\n",
    "        width = np.shape(task['test'][test_pair_counter]['input'])[1]\n",
    "        height = np.shape(task['test'][test_pair_counter]['input'])[0]\n",
    "        axis[0].set_xticks(np.arange(-.5,width))\n",
    "        axis[0].set_yticks(np.arange(-.5,height))\n",
    "        axis[0].set_xticklabels([])\n",
    "        axis[0].set_yticklabels([])\n",
    "        axis[0].tick_params(length=0)\n",
    "        axis[0].grid(True)\n",
    "        axis[0].set_title('tstIn_' + str(test_pair_counter) + '_' + baseName)\n",
    "        # test output\n",
    "        axis[1].imshow(task['test'][test_pair_counter]['output'], cmap=cmap, norm=norm)\n",
    "        width = np.shape(task['test'][test_pair_counter]['output'])[1]\n",
    "        height = np.shape(task['test'][test_pair_counter]['output'])[0]\n",
    "        axis[1].set_xticks(np.arange(-.5,width))\n",
    "        axis[1].set_yticks(np.arange(-.5,height))\n",
    "        axis[1].set_xticklabels([])\n",
    "        axis[1].set_yticklabels([])\n",
    "        axis[1].tick_params(length=0)\n",
    "        axis[1].grid(True)\n",
    "        test_pair_name = 'tst_' + str(test_pair_counter) + '_' + baseName\n",
    "        axis[1].set_title('tstOut_' + str(test_pair_counter) + '_' + baseName)\n",
    "        plt.tight_layout()\n",
    "        test_pair_file_name_with_path = os.path.join(str(task_color_path), test_pair_name)\n",
    "        plt.savefig(test_pair_file_name_with_path, pad_inches=2)\n",
    "        plt.show()\n",
    "        plt.close()\n",
    "\n"
   ]
  },
  {
   "cell_type": "code",
   "execution_count": null,
   "metadata": {
    "execution": {
     "iopub.status.busy": "2023-02-21T01:11:23.600288Z",
     "iopub.status.idle": "2023-02-21T01:11:23.600608Z",
     "shell.execute_reply": "2023-02-21T01:11:23.600466Z",
     "shell.execute_reply.started": "2023-02-21T01:11:23.600445Z"
    }
   },
   "outputs": [],
   "source": [
    "def plot_subtask(task, baseName=\"1234\"):\n",
    "\n",
    "    cmap = colors.ListedColormap(\n",
    "        ['#000000', '#0074D9','#FF4136','#2ECC40','#FFDC00',\n",
    "         '#AAAAAA', '#F012BE', '#FF851B', '#7FDBFF', '#870C25'])\n",
    "    norm = colors.Normalize(vmin=0, vmax=9)\n",
    "    # 0 black, 1 blue, 2 red, 3 green, 4 yellow, 5 grey, 6 pink, 7 orange, 8 light blue, 9 brown\n",
    "    # variable assignment: assigns 1 to fig and 2 to ax\n",
    "    fig, ax = plt.subplots(1, 2)\n",
    "    ax.imshow(task, cmap=cmap, norm=norm)\n",
    "    width = np.shape(task)[1]\n",
    "    height = np.shape(task)[0]\n",
    "    ax.set_xticks(np.arange(-.5,width))\n",
    "    ax.set_yticks(np.arange(-.5,height))\n",
    "    ax.set_xticklabels([])\n",
    "    ax.set_yticklabels([])\n",
    "#         fig.axes.get_xaxis().set_visible(False)\n",
    "#         fig.axes.get_yaxis().set_visible(False)\n",
    "    ax.tick_params(length=0)\n",
    "    ax.grid(True)\n",
    "    plt.tight_layout()\n",
    "\n",
    "    file_name_with_path = os.path.join(str(augment_path), baseName)\n",
    "#     print(\"file_name_with_path in write_subtask_file: \", file_name_with_path)\n",
    "    plt.savefig(file_name_with_path)\n",
    "    plt.show()\n",
    "    plt.close()"
   ]
  },
  {
   "cell_type": "code",
   "execution_count": null,
   "metadata": {
    "execution": {
     "iopub.status.busy": "2023-02-21T01:11:23.602641Z",
     "iopub.status.idle": "2023-02-21T01:11:23.602977Z",
     "shell.execute_reply": "2023-02-21T01:11:23.602829Z",
     "shell.execute_reply.started": "2023-02-21T01:11:23.602810Z"
    }
   },
   "outputs": [],
   "source": [
    "x = torch.randn(3, 2)\n",
    "y = torch.ones(3, 2)\n",
    "print(\"x is \", x)\n",
    "print(\"y is \", y)\n",
    "calc = torch.where(x > 0, x, y)\n",
    "print(calc)\n"
   ]
  },
  {
   "cell_type": "code",
   "execution_count": null,
   "metadata": {
    "execution": {
     "iopub.status.busy": "2023-02-21T01:11:23.604546Z",
     "iopub.status.idle": "2023-02-21T01:11:23.604917Z",
     "shell.execute_reply": "2023-02-21T01:11:23.604758Z",
     "shell.execute_reply.started": "2023-02-21T01:11:23.604739Z"
    }
   },
   "outputs": [],
   "source": [
    "\n",
    "\n",
    "def colorMyTensor(inputTensor, valuesToSwap):\n",
    "    # here's what we're going to do: if the colors in the input's values appear in the output, then make the\n",
    "    # same change in the output. Otherwise leave them alone. Because if they don't, then color is irrelevant --\n",
    "    # it's got something to do with the pattern, not the color. Even if you look at 27a28665.json, you see that \n",
    "    # no colors in the output are in the input. That should still work.  Not sure if *some* colors aappear in \n",
    "    # the input which aren't in the output or vice-versa. \n",
    "    if valuesToSwap is None:\n",
    "        return inputTensor\n",
    "    print(\"inputTensor = \", inputTensor)\n",
    "    print(\"valuesToSwap in colorMyTensor = \", valuesToSwap)\n",
    "    # I don't think it matters whether it's background color or not\n",
    "    # So we're going for a MORE GENERALIZED approach. Meaning that it's for the computer\n",
    "    # https://stackoverflow.com/questions/60153144/how-to-check-whether-a-certain-number-is-in-the-pytorch-tensor\n",
    "    # torch.Tensor implements __contains__. So, you can just use: 1 in A\n",
    "    # may need to scramble the following or it will change lower numbers only\n",
    "\n",
    "    firstValueToSwap = valuesToSwap[0]\n",
    "    secondValueToSwap = valuesToSwap[1]\n",
    "    print(\"firstValueToSwap in colorMyTensor \", valuesToSwap[0])\n",
    "    print(\"secondValueToSwap in colorMyTensor \", valuesToSwap[1])\n",
    "  \n",
    "    firstValuePlus10 = valuesToSwap[0] + 10\n",
    "    secondValuePlus10 = valuesToSwap[1] + 10\n",
    "\n",
    "    print(\"firstValuePlus10 in colorMyTensor  \", firstValuePlus10)\n",
    "    print(\"secondValuePlus10 in colorMyTensor  \", secondValuePlus10)\n",
    "    changed_color_tensor = torch.where(inputTensor == firstValueToSwap,torch.tensor(firstValuePlus10),inputTensor)\n",
    "\n",
    "    changed_tensor = torch.tensor(inputTensor)\n",
    "    # change 2s to 12s and 3s to 13s\n",
    "    changed_tensor = torch.where(changed_tensor==valuesToSwap[0],torch.tensor(valuesToSwap[0] + 10),changed_tensor)\n",
    "    changed_tensor = torch.where(changed_tensor==valuesToSwap[1],torch.tensor(valuesToSwap[1] + 10),changed_tensor)\n",
    "    # now change 12s to 3s and 13s to 2s\n",
    "    changed_tensor = torch.where(changed_tensor==valuesToSwap[0] + 10,torch.tensor(valuesToSwap[1]),changed_tensor)\n",
    "    changed_tensor = torch.where(changed_tensor==valuesToSwap[1] + 10,torch.tensor(valuesToSwap[0]),changed_tensor)\n",
    "    print(\"changed_tensor = \", changed_tensor)\n",
    "\n",
    "    \n",
    "#     print(\"changed_color_tensor = \", changed_color_tensor)\n",
    "    return changed_tensor\n"
   ]
  },
  {
   "cell_type": "code",
   "execution_count": null,
   "metadata": {
    "execution": {
     "iopub.status.busy": "2023-02-21T01:11:23.605944Z",
     "iopub.status.idle": "2023-02-21T01:11:23.606537Z",
     "shell.execute_reply": "2023-02-21T01:11:23.606158Z",
     "shell.execute_reply.started": "2023-02-21T01:11:23.606133Z"
    }
   },
   "outputs": [],
   "source": [
    "def setInputValuesToSwap(inputTensor):\n",
    "    print(\"inputTensor in setInputValuesToSwap = \", inputTensor )\n",
    "    uniqueValues = torch.unique(torch.tensor(inputTensor, dtype=torch.long))\n",
    "    uniqueValuesArray = uniqueValues.numpy()\n",
    "    print(\"uniqueValuesArray in setInputValuesToSwap \", uniqueValuesArray)\n",
    "    print(\"uniqueValuesArray type in setInputValuesToSwap \", type(uniqueValuesArray))\n",
    "    return uniqueValuesArray"
   ]
  },
  {
   "cell_type": "code",
   "execution_count": null,
   "metadata": {
    "execution": {
     "iopub.status.busy": "2023-02-21T01:11:23.608019Z",
     "iopub.status.idle": "2023-02-21T01:11:23.608615Z",
     "shell.execute_reply": "2023-02-21T01:11:23.608291Z",
     "shell.execute_reply.started": "2023-02-21T01:11:23.608265Z"
    }
   },
   "outputs": [],
   "source": [
    "def setOutputValuesToSwap(inputTensor, inputValuesToSwap):\n",
    "    print(\"inputTensor in setOutputValuesToSwap = \", inputTensor)\n",
    "    uniqueValues = torch.unique(torch.tensor(inputTensor, dtype=torch.long))\n",
    "    uniqueValuesArray = uniqueValues.numpy()\n",
    "    # we now have two array of unique values. Find if any of the uniqueValuesArray, which is unique values\n",
    "    # in the train output, are contained in the inputValuesToSwap array\n",
    "    print(\"uniqueValuesArray in setOutputValuesToSwap \", uniqueValuesArray)\n",
    "    intersectionArray = np.intersect1d(inputValuesToSwap, uniqueValuesArray)\n",
    "    print(\"intersectionArray = \", intersectionArray)\n",
    "    print(\"len(intersectionArray) = \", len(intersectionArray))\n",
    "    # any() -- https://stackoverflow.com/questions/54191677/numpy-error-the-truth-value-of-an-array-with-more-than-one-element-is-ambiguous\n",
    "    if not intersectionArray.any():\n",
    "        \n",
    "#         inputTensorToArray = inputTensor.numpy()\n",
    "#         intersectionArray = inputTensorToArray\n",
    "#         print(\"intersectionArray when len() is 0 = \", intersectionArray)\n",
    "        return\n",
    "    return intersectionArray"
   ]
  },
  {
   "cell_type": "markdown",
   "metadata": {},
   "source": [
    "**set padding**"
   ]
  },
  {
   "cell_type": "code",
   "execution_count": null,
   "metadata": {
    "execution": {
     "iopub.status.busy": "2023-02-21T01:11:23.611236Z",
     "iopub.status.idle": "2023-02-21T01:11:23.611765Z",
     "shell.execute_reply": "2023-02-21T01:11:23.611528Z",
     "shell.execute_reply.started": "2023-02-21T01:11:23.611503Z"
    }
   },
   "outputs": [],
   "source": [
    "PAD = 2\n",
    "arr = list(range(0,PAD + 1))\n",
    "padded_train_pairs = []\n",
    "padded_test_pairs = []\n",
    "dict_all_padded = {}\n"
   ]
  },
  {
   "cell_type": "code",
   "execution_count": null,
   "metadata": {
    "execution": {
     "iopub.status.busy": "2023-02-21T01:11:23.615964Z",
     "iopub.status.idle": "2023-02-21T01:11:23.616464Z",
     "shell.execute_reply": "2023-02-21T01:11:23.616227Z",
     "shell.execute_reply.started": "2023-02-21T01:11:23.616204Z"
    }
   },
   "outputs": [],
   "source": [
    "def cartesian_product(arr): \n",
    "\n",
    "    # return the list of all the computed tuples \n",
    "    # using the product() method \n",
    "    return list(product(arr, arr, arr, arr)) \n",
    "\n",
    "cartesianList = cartesian_product(arr)\n",
    "print(len(cartesianList))\n",
    "print(cartesianList)"
   ]
  },
  {
   "cell_type": "code",
   "execution_count": null,
   "metadata": {
    "execution": {
     "iopub.status.busy": "2023-02-21T01:11:23.619029Z",
     "iopub.status.idle": "2023-02-21T01:11:23.619791Z",
     "shell.execute_reply": "2023-02-21T01:11:23.619444Z",
     "shell.execute_reply.started": "2023-02-21T01:11:23.619409Z"
    }
   },
   "outputs": [],
   "source": [
    "# function to write the json padded file\n",
    "def write_padded_file(task, filename):\n",
    "#     print(\"task in write_padding_file: \", task)\n",
    "    class NumpyEncoder(json.JSONEncoder):\n",
    "        def default(self, obj):\n",
    "            if isinstance(obj, np.ndarray):\n",
    "                return obj.tolist()\n",
    "            return json.JSONEncoder.default(self, obj)\n",
    "\n",
    "\n",
    "    json_dump = json.dumps(task, cls=NumpyEncoder)\n",
    "#     print(\"json_dump: \", json_dump)\n",
    "\n",
    "    print(\"filename in write_padded_file: \", filename)\n",
    "\n",
    "    file_name_with_path = os.path.join(str(task_color_path), filename)\n",
    "    print(\"file_name_with_path in write_padded_file: \", file_name_with_path)\n",
    "    outfile = open(file_name_with_path, \"w\")\n",
    "    outfile.write(json_dump)\n",
    "    outfile.close()"
   ]
  },
  {
   "cell_type": "markdown",
   "metadata": {},
   "source": [
    "**We want to rewrite the original task into a padded task, name it, and then write out the JSON\n",
    "and the image following naming conventions from Subtask notebook**\n",
    "\n",
    "**We will also write out a file for each training pair and each test pair**"
   ]
  },
  {
   "cell_type": "code",
   "execution_count": null,
   "metadata": {
    "execution": {
     "iopub.status.busy": "2023-02-21T01:11:23.622507Z",
     "iopub.status.idle": "2023-02-21T01:11:23.623166Z",
     "shell.execute_reply": "2023-02-21T01:11:23.622886Z",
     "shell.execute_reply.started": "2023-02-21T01:11:23.622855Z"
    }
   },
   "outputs": [],
   "source": [
    "def create_padding(task, n_train_pairs, n_test_pairs, baseName=\"newPaddingName\"):\n",
    "\n",
    "    print(\"base name in create_padding: \" + baseName, \" n_train_pairs: \", n_train_pairs)\n",
    "    \n",
    "#     for i in range(len(cartesianList)):\n",
    "    for i in range(0,len(cartesianList)):\n",
    "    # makePaddingString(yShift, xShift) ... return yChangeString, xChangeString\n",
    "    # so yChangeString will be renamedPaddingInput[0] and xChangeString is renamedPaddingInput[1]\n",
    "        yShift = cartesianList[i][0]\n",
    "        xShift = cartesianList[i][1]\n",
    "        leftShift = cartesianList[i][0]\n",
    "        rightShift = cartesianList[i][1]\n",
    "        topsShift = cartesianList[i][2]\n",
    "        bottomShift = cartesianList[i][3]\n",
    "        print(\"i=\",i, \" yShift, xShift = \", yShift, \",\", xShift)\n",
    "        renamedPaddingInput = makePaddingString(yShift, xShift)  \n",
    "        print(\"renamedPaddingInput = \", renamedPaddingInput)\n",
    "        basePaddingName = baseName + \"_\" + renamedPaddingInput[1] + renamedPaddingInput[0]\n",
    "        print(\"basePaddingName in cartesian loop = \", basePaddingName)\n",
    "        # loop through training pairs\n",
    "        training_pair_counter = 0\n",
    "        # dictionary object to hold our modified padded task. Iterate through each training pair and\n",
    "        valuesToSwap = []\n",
    "        padded_train_pairs = []\n",
    "        for training_pair_counter in range(n_train_pairs):\n",
    "            # say we're looking at the 3x3 input of 25d8a9c8.json \n",
    "            \n",
    "            # Input\n",
    "            originalTrainingInput = task['train'][training_pair_counter]['input']\n",
    "            # convert it to a tensor...\n",
    "            inputTrainingTensor = torch.tensor(originalTrainingInput)\n",
    "            # now let's color it\n",
    "            # there will always be a 0th pair. This should be set for inputs and outputs including test\n",
    "            if training_pair_counter == 0:\n",
    "                inputValuesToSwap = setInputValuesToSwap(inputTrainingTensor)\n",
    "            inputTrainingTensor = colorMyTensor(inputTrainingTensor, inputValuesToSwap)\n",
    "            # ... and get its size ...\n",
    "            originalTrainingInputSize = list(inputTrainingTensor.size())\n",
    "#             print(\"originalTrainingInputSize is \", originalTrainingInputSize)\n",
    "            # ... so that we can pad it pad=(left, right, top, bottom)\n",
    "            paddedTrainingInput = F.pad(input=inputTrainingTensor, pad=(leftShift,rightShift, topsShift, bottomShift), mode='constant', value=0)\n",
    "            # create variable to hold this newly padded size\n",
    "            paddedTrainingInputSize = list(paddedTrainingInput.size())\n",
    "#             print(\"paddedTrainingInputSize is \", paddedTrainingInputSize)\n",
    "            inputTrainingSizeIncrease = showSizeIncrease(originalTrainingInputSize, paddedTrainingInputSize)\n",
    "#             print(\"inputTrainingSizeIncrease is \", inputTrainingSizeIncrease)\n",
    "            # create a name that will let us identify the file's relation  to the original\n",
    "            padded_traInput_pair_filename = basePaddingName + \"_\" + \"trIn\" + str(training_pair_counter) + \"_\" + inputTrainingSizeIncrease + \".json\"\n",
    "#             print(\"padding_traInput_pair_filename in create_padding: \", padded_traInput_pair_filename)\n",
    "#             plot_subtask(task, baseName)\n",
    "    \n",
    "            # Output\n",
    "            originalTrainingOutput = task['train'][training_pair_counter]['output']\n",
    "            # convert it to a tensor...\n",
    "            outputTrainingTensor = torch.tensor(task['train'][training_pair_counter]['output'])\n",
    "            if training_pair_counter == 0:\n",
    "                outputValuesToSwap = setOutputValuesToSwap(outputTrainingTensor, inputValuesToSwap)\n",
    "            outputTrainingTensor = colorMyTensor(outputTrainingTensor, outputValuesToSwap)\n",
    "            # ... and get its size ...\n",
    "            originalTrainingOutputSize = list(outputTrainingTensor.size())\n",
    "            # ... so that we can pad it\n",
    "            paddedTrainingOutput = F.pad(input=outputTrainingTensor, pad=(leftShift,rightShift, topsShift, bottomShift), mode='constant', value=0)\n",
    "            # create variable to hold this newly padded size\n",
    "            paddedTrainingOutputSize = list(paddedTrainingOutput.size())\n",
    "            outputTrainingSizeIncrease = showSizeIncrease(originalTrainingOutputSize, paddedTrainingOutputSize)\n",
    "    #       padded_traInput_pair_filename = basePaddingName + \"_\" + \"traIn\" + str(training_pair_counter) + \"_\" + inputTrainingSizeXbyX + inputTrainingSizeIncrease + \".json\"\n",
    "            padded_traOutput_pair_filename = basePaddingName + \"_\" + \"trOut\" + str(training_pair_counter) + \"_\" + outputTrainingSizeIncrease + \".json\"\n",
    "    #         print(\"padded_traOutput_pair_filename in create_padding: \", padded_traOutput_pair_filename)\n",
    "            padded_train_pairs.append([paddedTrainingInput, paddedTrainingOutput])\n",
    "#         print(\"padded_train_pairs = \", padded_train_pairs)\n",
    "#         print(\"padded_train_pairs length = \", len(padded_train_pairs))\n",
    "        padded_test_pairs = []\n",
    "        for test_pair_counter in range(n_test_pairs):\n",
    "            # Input\n",
    "            originalTestInput = task['test'][test_pair_counter]['input']\n",
    "            inputTestTensor = torch.tensor(originalTestInput)\n",
    "            originalTestInputSize = list(inputTestTensor.size())\n",
    "            paddedTestInput = F.pad(input=inputTestTensor, pad=(leftShift,rightShift, topsShift, bottomShift), mode='constant', value=0)\n",
    "            paddedTestInputSize = list(paddedTestInput.size())\n",
    "            inputTestSizeIncrease = showSizeIncrease(originalTestInputSize, paddedTestInputSize)\n",
    "            print(\"inputTestSizeIncrease is \", inputTestSizeIncrease)\n",
    "            padding_testInput_pair_filename = basePaddingName + \"_tstIn[\" + str(test_pair_counter) + \"]_\" + inputTestSizeIncrease +\".json\"\n",
    "            paddedInputTestToTensor = torch.tensor(paddedTestInput)\n",
    "            # Output\n",
    "            originalTestOutput = task['test'][test_pair_counter]['output']\n",
    "            outputTestTensor = torch.tensor(task['test'][test_pair_counter]['output'])\n",
    "            originalTestOutputSize = list(outputTestTensor.size())\n",
    "            paddedTestOutput = F.pad(input=outputTestTensor, pad=(leftShift,rightShift, topsShift, bottomShift), mode='constant', value=0)\n",
    "            paddedTestOutputSize = list(paddedTestOutput.size())\n",
    "            outputTestSizeIncrease = showSizeIncrease(originalTestOutputSize, paddedTestOutputSize)\n",
    "            padding_testOutput_pair_filename = basePaddingName + \"_tstOut[\" + str(test_pair_counter) + \"]_\" + outputTestSizeIncrease +\".json\"\n",
    "            list_paddedTestOutputSize = list(paddedTestOutput.size())\n",
    "    #         padded_testOutput_pair_filename = basePaddingName + \"_\" + \"testOut\" + str(test_pair_counter) + \"_\" + convertListToString(list_paddedTestOutputSize) + \".json\"\n",
    "            paddedOutputTestToTensor = torch.tensor(paddedTestOutput)\n",
    "\n",
    "    #         print(\"padded_testOutput_pair_filename in create_padding: \", padded_testOutput_pair_filename)\n",
    "\n",
    "            padded_test_pairs.append([paddedInputTestToTensor, paddedOutputTestToTensor])\n",
    "#         print(\"padded_test_pairs = \", padded_test_pairs)\n",
    "#         print(\"padded_test_pairs length = \", len(padded_test_pairs))\n",
    "#       now reassemble these matrices into a single padding task\n",
    "\n",
    "        padded_train_dict = {'train': []}\n",
    "        for item in padded_train_pairs:\n",
    "            padded_train_dict['train'].append({\n",
    "                'input': item[0].tolist(),\n",
    "                'output': item[1].tolist()\n",
    "            })\n",
    "        padded_test_dict = {'test': []}\n",
    "        for item in padded_test_pairs:\n",
    "            padded_test_dict['test'].append({\n",
    "                'input': item[0].tolist(),\n",
    "                'output': item[1].tolist()\n",
    "            })\n",
    "        print(\"padded_test_dict is \", padded_test_dict)\n",
    "\n",
    "        dict_all_padded.update(padded_train_dict)\n",
    "        dict_all_padded.update(padded_test_dict)\n",
    "\n",
    "        padded_plot_name = basePaddingName + inputTestSizeIncrease\n",
    "        padded_filename = padded_plot_name + \".json\"\n",
    "        print(\"padded_filename in create_padding: \", padded_filename)\n",
    "        print(\"dict_all_padded in create_padding: \", dict_all_padded)\n",
    "        # the following line is if we want to write out the JSON\n",
    "#         write_padded_file(dict_all_padded, padded_filename)\n",
    "        plot_task(dict_all_padded, padded_plot_name)\n",
    "    #     plot_subtask(task, baseName=\"1234\")"
   ]
  },
  {
   "cell_type": "code",
   "execution_count": null,
   "metadata": {
    "execution": {
     "iopub.status.busy": "2023-02-21T01:11:23.624835Z",
     "iopub.status.idle": "2023-02-21T01:11:23.625297Z",
     "shell.execute_reply": "2023-02-21T01:11:23.625074Z",
     "shell.execute_reply.started": "2023-02-21T01:11:23.625050Z"
    }
   },
   "outputs": [],
   "source": [
    "# Set how many training tasks we're going to iterate thru:\n",
    "\n",
    "for i, json_path in enumerate(training_tasks[51:52]):\n",
    "    # temporarily\n",
    "    i = 51\n",
    "    task_file = str(training_path / training_tasks[i])\n",
    "\n",
    "    with open(task_file, 'r') as f:\n",
    "        task = json.load(f) \n",
    "\n",
    "    n_train_pairs = len(task['train'])\n",
    "    n_test_pairs = len(task['test'])\n",
    "\n",
    "    # print(task.keys()) # keys to the JSON file we're looking at \n",
    "    print('task file in enumerate training_tasks ' + str(i) + task_file)   # the JSON file we're looking at, including its path\n",
    "    # print(task)  #task is the full JSON object including test input and output for however many training pairs there are\n",
    "                 #and however many test pairs there are\n",
    "\n",
    "    if training_tasks[i].index(substring):\n",
    "        idx = training_tasks[i].index(substring)\n",
    "        if idx > 0:\n",
    "#             print(\"substring: \", substring)\n",
    "            baseName = training_tasks[i][:idx]\n",
    "            print(\"baseName in enumerate(training_tasks: \", baseName)\n",
    "\n",
    "\n",
    "    print(\"task type in enumerate: \", type(task))\n",
    "#     plot_task(task, baseName)     #plots just the original task\n",
    "#     create_synthetic_task(task,n_train_pairs, baseName)    \n",
    "    create_padding(task, n_train_pairs, n_test_pairs, baseName)\n",
    "    write_padded_file(task, baseName)\n",
    "\n",
    "    \n"
   ]
  },
  {
   "cell_type": "code",
   "execution_count": null,
   "metadata": {
    "execution": {
     "iopub.status.busy": "2023-02-21T01:11:23.627370Z",
     "iopub.status.idle": "2023-02-21T01:11:23.627975Z",
     "shell.execute_reply": "2023-02-21T01:11:23.627717Z",
     "shell.execute_reply.started": "2023-02-21T01:11:23.627688Z"
    }
   },
   "outputs": [],
   "source": [
    "task = {'train': [{'input': [[0, 1, 0], [1, 1, 0], [0, 1, 0], [0, 1, 1], [0, 1, 0], [1, 1, 0]], 'output': [[0, 2, 0], [2, 2, 0], [0, 2, 0], [0, 2, 2], [0, 2, 0], [2, 2, 0], [0, 2, 0], [0, 2, 2], [0, 2, 0]]}, {'input': [[0, 1, 0], [1, 0, 1], [0, 1, 0], [1, 0, 1], [0, 1, 0], [1, 0, 1]], 'output': [[0, 2, 0], [2, 0, 2], [0, 2, 0], [2, 0, 2], [0, 2, 0], [2, 0, 2], [0, 2, 0], [2, 0, 2], [0, 2, 0]]}, {'input': [[0, 1, 0], [1, 1, 0], [0, 1, 0], [0, 1, 0], [1, 1, 0], [0, 1, 0]], 'output': [[0, 2, 0], [2, 2, 0], [0, 2, 0], [0, 2, 0], [2, 2, 0], [0, 2, 0], [0, 2, 0], [2, 2, 0], [0, 2, 0]]}], 'test': [{'input': [[1, 1, 1], [0, 1, 0], [0, 1, 0], [1, 1, 1], [0, 1, 0], [0, 1, 0]], 'output': [[2, 2, 2], [0, 2, 0], [0, 2, 0], [2, 2, 2], [0, 2, 0], [0, 2, 0], [2, 2, 2], [0, 2, 0], [0, 2, 0]]}]}\n",
    "# task"
   ]
  },
  {
   "cell_type": "markdown",
   "metadata": {},
   "source": [
    "Tasks have multiple `train` input-output pairs. Most tasks have a single `test` input-output pair, although some have more than one."
   ]
  },
  {
   "cell_type": "markdown",
   "metadata": {},
   "source": [
    "Drilling into the second `train` input-output pair, we can see the grids are expressed as 2d lists with integers 0-9.This duplicates the above example functionality"
   ]
  },
  {
   "cell_type": "markdown",
   "metadata": {},
   "source": [
    " Let's do some transformation on this one's two inputs and outputs:"
   ]
  },
  {
   "cell_type": "code",
   "execution_count": null,
   "metadata": {
    "execution": {
     "iopub.status.busy": "2023-02-21T01:11:23.629495Z",
     "iopub.status.idle": "2023-02-21T01:11:23.630048Z",
     "shell.execute_reply": "2023-02-21T01:11:23.629789Z",
     "shell.execute_reply.started": "2023-02-21T01:11:23.629763Z"
    }
   },
   "outputs": [],
   "source": [
    "# original = task['train'][2]['input']\n",
    "# flipped = (np.fliplr(original))"
   ]
  },
  {
   "cell_type": "code",
   "execution_count": null,
   "metadata": {
    "execution": {
     "iopub.status.busy": "2023-02-21T01:11:23.632330Z",
     "iopub.status.idle": "2023-02-21T01:11:23.632956Z",
     "shell.execute_reply": "2023-02-21T01:11:23.632649Z",
     "shell.execute_reply.started": "2023-02-21T01:11:23.632619Z"
    }
   },
   "outputs": [],
   "source": [
    "# torch.tensor(original).shape"
   ]
  },
  {
   "cell_type": "markdown",
   "metadata": {},
   "source": [
    "# Using the correct prediction format"
   ]
  },
  {
   "cell_type": "code",
   "execution_count": null,
   "metadata": {
    "execution": {
     "iopub.status.busy": "2023-02-21T01:11:23.634991Z",
     "iopub.status.idle": "2023-02-21T01:11:23.635501Z",
     "shell.execute_reply": "2023-02-21T01:11:23.635265Z",
     "shell.execute_reply.started": "2023-02-21T01:11:23.635237Z"
    }
   },
   "outputs": [],
   "source": [
    "submission = pd.read_csv(data_path / 'sample_submission.csv', index_col='output_id')\n",
    "display(submission.head())"
   ]
  },
  {
   "cell_type": "markdown",
   "metadata": {},
   "source": [
    "The `output_id` is the `id` of the task, followed by the index of the `test` input that you should use to make your prediction. The `output` is the predicted output of the corresponding `test` input, reformatted into a string representation. (You can make three predictions per `output_id`, delineated by a space.) Use the following function to convert from a 2d python list to the string representation."
   ]
  },
  {
   "cell_type": "code",
   "execution_count": null,
   "metadata": {
    "execution": {
     "iopub.status.busy": "2023-02-21T01:11:23.637710Z",
     "iopub.status.idle": "2023-02-21T01:11:23.638313Z",
     "shell.execute_reply": "2023-02-21T01:11:23.638040Z",
     "shell.execute_reply.started": "2023-02-21T01:11:23.638008Z"
    }
   },
   "outputs": [],
   "source": [
    "def flattener(pred):\n",
    "    str_pred = str([row for row in pred])\n",
    "    str_pred = str_pred.replace(', ', '')\n",
    "    str_pred = str_pred.replace('[[', '|')\n",
    "    str_pred = str_pred.replace('][', '|')\n",
    "    str_pred = str_pred.replace(']]', '|')\n",
    "    return str_pred"
   ]
  },
  {
   "cell_type": "code",
   "execution_count": null,
   "metadata": {
    "execution": {
     "iopub.status.busy": "2023-02-21T01:11:23.644111Z",
     "iopub.status.idle": "2023-02-21T01:11:23.644654Z",
     "shell.execute_reply": "2023-02-21T01:11:23.644413Z",
     "shell.execute_reply.started": "2023-02-21T01:11:23.644383Z"
    }
   },
   "outputs": [],
   "source": [
    "example_grid = [[1, 2, 3], [4, 5, 6], [7, 8, 9]]\n",
    "display(example_grid)\n",
    "print(flattener(example_grid))"
   ]
  },
  {
   "cell_type": "markdown",
   "metadata": {},
   "source": [
    "# Re-creating the sample submission output\n",
    "\n",
    "This demonstrates how to loop over the sample submission and make predictions."
   ]
  },
  {
   "cell_type": "code",
   "execution_count": null,
   "metadata": {
    "execution": {
     "iopub.status.busy": "2023-02-21T01:11:23.646872Z",
     "iopub.status.idle": "2023-02-21T01:11:23.647578Z",
     "shell.execute_reply": "2023-02-21T01:11:23.647280Z",
     "shell.execute_reply.started": "2023-02-21T01:11:23.647245Z"
    }
   },
   "outputs": [],
   "source": [
    "for output_id in submission.index:\n",
    "    task_id = output_id.split('_')[0]\n",
    "    pair_id = int(output_id.split('_')[1])\n",
    "    f = str(test_path / str(task_id + '.json'))\n",
    "    with open(f, 'r') as read_file:\n",
    "        task = json.load(read_file)\n",
    "    # skipping over the training examples, since this will be naive predictions\n",
    "    # we will use the test input grid as the base, and make some modifications\n",
    "    data = task['test'][pair_id]['input'] # test pair input\n",
    "    # for the first guess, predict that output is unchanged\n",
    "    pred_1 = flattener(data)\n",
    "    # for the second guess, change all 0s to 5s\n",
    "    data = [[5 if i==0 else i for i in j] for j in data]\n",
    "    pred_2 = flattener(data)\n",
    "    # for the last gues, change everything to 0\n",
    "    data = [[0 for i in j] for j in data]\n",
    "    pred_3 = flattener(data)\n",
    "    # concatenate and add to the submission output\n",
    "    pred = pred_1 + ' ' + pred_2 + ' ' + pred_3 + ' ' \n",
    "    submission.loc[output_id, 'output'] = pred\n",
    "\n",
    "submission.to_csv('submission.csv')"
   ]
  }
 ],
 "metadata": {
  "kernelspec": {
   "display_name": "Python 3 (ipykernel)",
   "language": "python",
   "name": "python3"
  },
  "language_info": {
   "codemirror_mode": {
    "name": "ipython",
    "version": 3
   },
   "file_extension": ".py",
   "mimetype": "text/x-python",
   "name": "python",
   "nbconvert_exporter": "python",
   "pygments_lexer": "ipython3",
   "version": "3.7.11"
  }
 },
 "nbformat": 4,
 "nbformat_minor": 4
}
